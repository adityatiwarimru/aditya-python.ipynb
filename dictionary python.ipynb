{
 "cells": [
  {
   "cell_type": "code",
   "execution_count": 64,
   "metadata": {},
   "outputs": [
    {
     "name": "stdout",
     "output_type": "stream",
     "text": [
      "{}\n"
     ]
    }
   ],
   "source": [
    "#Q1:\n",
    "\n",
    "dict={}\n",
    "print(dict)"
   ]
  },
  {
   "cell_type": "code",
   "execution_count": 14,
   "metadata": {},
   "outputs": [
    {
     "name": "stdout",
     "output_type": "stream",
     "text": [
      "{'A': '10', 'B': '20'}\n"
     ]
    }
   ],
   "source": [
    "#Q2:\n",
    "\n",
    "a={\"A\":\"10\",\"B\":\"20\"}\n",
    "print(a)"
   ]
  },
  {
   "cell_type": "code",
   "execution_count": 18,
   "metadata": {},
   "outputs": [
    {
     "name": "stdout",
     "output_type": "stream",
     "text": [
      "{1: 'A', 2: 'B', 3: 'C'}\n"
     ]
    }
   ],
   "source": [
    "#Q3:Create a dictionary with different data types for keys\n",
    "\n",
    "student={\n",
    "1:\"A\",\n",
    "2:\"B\",\n",
    "3:\"C\",\n",
    "}\n",
    "print(student)"
   ]
  },
  {
   "cell_type": "code",
   "execution_count": 63,
   "metadata": {},
   "outputs": [
    {
     "name": "stdout",
     "output_type": "stream",
     "text": [
      "dict_items([('A', 1), ('B', 2), ('C', 3)])\n"
     ]
    }
   ],
   "source": [
    "#Q4:Print all the items of a dictionary\n",
    "\n",
    "dict={\n",
    "\"A\":1,\n",
    "\"B\":2,\n",
    "\"C\":3,\n",
    "\n",
    "}\n",
    "print(dict.items())"
   ]
  },
  {
   "cell_type": "code",
   "execution_count": 62,
   "metadata": {},
   "outputs": [
    {
     "name": "stdout",
     "output_type": "stream",
     "text": [
      "{'A': 1, 'B': 2, 'C': 3}\n",
      "{'A': 1, 'C': 3}\n"
     ]
    }
   ],
   "source": [
    "#Q5:5Delete an element of a dictionary\n",
    "\n",
    "dict={\n",
    "\"A\":1,\n",
    "\"B\":2,\n",
    "\"C\":3,\n",
    "}\n",
    "print(dict)\n",
    "del dict['B']\n",
    "print(dict)"
   ]
  },
  {
   "cell_type": "code",
   "execution_count": 31,
   "metadata": {},
   "outputs": [
    {
     "name": "stdout",
     "output_type": "stream",
     "text": [
      "Dict. is\n",
      "{'A': 1, 'B': 2, 'C': 3}\n",
      "Deleting Dict.\n",
      "full disc. deleted\n"
     ]
    }
   ],
   "source": [
    "#Q.6:Delete full dictionary\n",
    "\n",
    "dict={\n",
    "\"A\":1,\n",
    "\"B\":2,\n",
    "\"C\":3,\n",
    "}\n",
    "print(\"Dict. is\")\n",
    "print(dict)\n",
    "print(\"Deleting Dict.\")\n",
    "del dict\n",
    "print(\"full disc. deleted\")"
   ]
  },
  {
   "cell_type": "code",
   "execution_count": 61,
   "metadata": {},
   "outputs": [
    {
     "name": "stdout",
     "output_type": "stream",
     "text": [
      "A 1\n",
      "B 2\n",
      "C 3\n"
     ]
    }
   ],
   "source": [
    "#Q7:Print value for a key\n",
    "\n",
    "dict={\n",
    "\"A\":1,\n",
    "\"B\":2,\n",
    "\"C\":3,\n",
    "}\n",
    "for key,value in dict.items():\n",
    "    print(key,value)"
   ]
  },
  {
   "cell_type": "code",
   "execution_count": 67,
   "metadata": {},
   "outputs": [
    {
     "name": "stdout",
     "output_type": "stream",
     "text": [
      "VALUE EXIST\n"
     ]
    }
   ],
   "source": [
    "#Q8:To check if a key id is present in a dictionary\n",
    "\n",
    "dict={\n",
    "\"A\":\"1\",\n",
    "\"B\":\"2\",\n",
    "}\n",
    "if \"A\" in dict:\n",
    "    print(\"VALUE EXIST\")\n",
    "else:\n",
    "    print(\"VALUE DOES NOT EXIST\")\n"
   ]
  },
  {
   "cell_type": "code",
   "execution_count": 66,
   "metadata": {},
   "outputs": [
    {
     "name": "stdout",
     "output_type": "stream",
     "text": [
      "{'A': 1, 'B': 2, 'C': 3}\n",
      "{'A': 7, 'B': 2, 'C': 3}\n"
     ]
    }
   ],
   "source": [
    "#Q9:9Update a value of a key\n",
    "\n",
    "dict={\n",
    "\"A\":1,\n",
    "\"B\":2,\n",
    "\"C\":3,\n",
    "}\n",
    "print(dict)\n",
    "dict['A']=7\n",
    "print(dict)"
   ]
  },
  {
   "cell_type": "code",
   "execution_count": 68,
   "metadata": {},
   "outputs": [
    {
     "name": "stdout",
     "output_type": "stream",
     "text": [
      "{'A': 1, 'B': 2, 'C': 3}\n",
      "{'A': 1, 'B': 2, 'C': 3, 'F': 8}\n"
     ]
    }
   ],
   "source": [
    "#Q10:Add a new key value pair\n",
    "\n",
    "dict={\n",
    "\"A\":1,\n",
    "\"B\":2,\n",
    "\"C\":3,\n",
    "}\n",
    "print(dict)\n",
    "dict['F']=8\n",
    "print(dict)"
   ]
  },
  {
   "cell_type": "code",
   "execution_count": 72,
   "metadata": {},
   "outputs": [
    {
     "name": "stdout",
     "output_type": "stream",
     "text": [
      "{1: 1}\n",
      "{1: 1, 2: 4}\n",
      "{1: 1, 2: 4, 3: 9}\n",
      "{1: 1, 2: 4, 3: 9, 4: 16}\n",
      "{1: 1, 2: 4, 3: 9, 4: 16, 5: 25}\n",
      "{1: 1, 2: 4, 3: 9, 4: 16, 5: 25, 6: 36}\n",
      "{1: 1, 2: 4, 3: 9, 4: 16, 5: 25, 6: 36, 7: 49}\n",
      "{1: 1, 2: 4, 3: 9, 4: 16, 5: 25, 6: 36, 7: 49, 8: 64}\n",
      "{1: 1, 2: 4, 3: 9, 4: 16, 5: 25, 6: 36, 7: 49, 8: 64, 9: 81}\n"
     ]
    }
   ],
   "source": [
    "#Q11:Print Dictionary keys{1,10} and values as square of keys\n",
    "\n",
    "a={}\n",
    "for i in range(1,10):\n",
    "    a[i]=i**2\n",
    "    print(a)"
   ]
  },
  {
   "cell_type": "code",
   "execution_count": 75,
   "metadata": {},
   "outputs": [
    {
     "name": "stdout",
     "output_type": "stream",
     "text": [
      "\n",
      "Nested dictionary\n",
      "{'A': 100, 1: 'B', 5: {'A': 200, 2: 'C'}, 'D': 300}\n"
     ]
    }
   ],
   "source": [
    "#Q12:Print nested dictionary\n",
    "dict={\n",
    "\"A\":100,\n",
    "1:\"B\",\n",
    "5:{\"A\":200,\n",
    "2:\"C\"},\n",
    "\"D\":300,\n",
    "}\n",
    "print(\"\\nNested dictionary\")\n",
    "print(dict)"
   ]
  },
  {
   "cell_type": "code",
   "execution_count": 81,
   "metadata": {},
   "outputs": [
    {
     "name": "stdout",
     "output_type": "stream",
     "text": [
      "{1: 10, 2: 20}\n",
      "{1: 10, 2: 20, 3: 30, 4: 40}\n",
      "{1: 10, 2: 20, 3: 30, 4: 40, 5: 50, 6: 60}\n"
     ]
    }
   ],
   "source": [
    "#Q13:Concatenate three dictionaries\n",
    "\n",
    "dic1={1:10,2:20}\n",
    "dic2={3:30,4:40}\n",
    "dic3={5:50,6:60}\n",
    "d4={}\n",
    "for  d in (d1,d2,d3):\n",
    "    d4.update(d)\n",
    "    print(d4)"
   ]
  },
  {
   "cell_type": "code",
   "execution_count": 106,
   "metadata": {},
   "outputs": [
    {
     "name": "stdout",
     "output_type": "stream",
     "text": [
      "1\n",
      "3\n",
      "6\n"
     ]
    }
   ],
   "source": [
    "#Q14:Sum all the values of a dictionary\n",
    "\n",
    "dict={\n",
    "\"A\":1,\n",
    "\"B\":2,\n",
    "\"C\":3,\n",
    "}\n",
    "i=0\n",
    "for key,value in dict.items():\n",
    "    i=value+i\n",
    "    print(i)"
   ]
  },
  {
   "cell_type": "code",
   "execution_count": 105,
   "metadata": {},
   "outputs": [
    {
     "name": "stdout",
     "output_type": "stream",
     "text": [
      "A\n",
      "25\n"
     ]
    }
   ],
   "source": [
    "#Q15:Accessing an element of a nested dictionary\n",
    "# Nested dictionary having same keys\n",
    "\n",
    "Dict = { \"Dict1\": {\"name\": \"A\", \"age\": \"19\"},\n",
    "         \"Dict2\": {\"name\": \"B\", \"age\": \"25\"}}\n",
    "  \n",
    "# Prints value corresponding to key &#39;name&#39; in Dict1\n",
    "print(Dict['Dict1']['name'])\n",
    "  \n",
    "# Prints value corresponding to key &#39;age&#39; in Dict2\n",
    "print(Dict['Dict2']['age'])\n"
   ]
  },
  {
   "cell_type": "code",
   "execution_count": 97,
   "metadata": {},
   "outputs": [
    {
     "name": "stdout",
     "output_type": "stream",
     "text": [
      "{1: 1}\n",
      "{1: 1, 2: 4}\n",
      "{1: 1, 2: 4, 3: 9}\n",
      "{1: 1, 2: 4, 3: 9, 4: 16}\n",
      "{1: 1, 2: 4, 3: 9, 4: 16, 5: 25}\n",
      "{1: 1, 2: 4, 3: 9, 4: 16, 5: 25, 6: 36}\n",
      "{1: 1, 2: 4, 3: 9, 4: 16, 5: 25, 6: 36, 7: 49}\n",
      "{1: 1, 2: 4, 3: 9, 4: 16, 5: 25, 6: 36, 7: 49, 8: 64}\n",
      "{1: 1, 2: 4, 3: 9, 4: 16, 5: 25, 6: 36, 7: 49, 8: 64, 9: 81}\n",
      "{1: 1, 2: 4, 3: 9, 4: 16, 5: 25, 6: 36, 7: 49, 8: 64, 9: 81, 10: 100}\n",
      "{1: 1, 2: 4, 3: 9, 4: 16, 5: 25, 6: 36, 7: 49, 8: 64, 9: 81, 10: 100, 11: 121}\n",
      "{1: 1, 2: 4, 3: 9, 4: 16, 5: 25, 6: 36, 7: 49, 8: 64, 9: 81, 10: 100, 11: 121, 12: 144}\n",
      "{1: 1, 2: 4, 3: 9, 4: 16, 5: 25, 6: 36, 7: 49, 8: 64, 9: 81, 10: 100, 11: 121, 12: 144, 13: 169}\n",
      "{1: 1, 2: 4, 3: 9, 4: 16, 5: 25, 6: 36, 7: 49, 8: 64, 9: 81, 10: 100, 11: 121, 12: 144, 13: 169, 14: 196}\n",
      "{1: 1, 2: 4, 3: 9, 4: 16, 5: 25, 6: 36, 7: 49, 8: 64, 9: 81, 10: 100, 11: 121, 12: 144, 13: 169, 14: 196, 15: 225}\n"
     ]
    }
   ],
   "source": [
    "#Q16:Write python script to print a dictionary where the keys are numbers between 1 and 15 and the\n",
    "#values are square of the keys.\n",
    "\n",
    "dict={}\n",
    "for key  in range(1,16):\n",
    "    dict[key]=key*key\n",
    "    print(dict)"
   ]
  },
  {
   "cell_type": "code",
   "execution_count": 104,
   "metadata": {},
   "outputs": [
    {
     "name": "stdout",
     "output_type": "stream",
     "text": [
      "{1: 1}\n",
      "{1: 1, 2: 2}\n",
      "{1: 1, 2: 2, 3: 6}\n"
     ]
    }
   ],
   "source": [
    "#Q17:Insert factorial of keys in values and print dictionary\n",
    "    \n",
    "dict={}\n",
    "factorial = 1\n",
    "for key in range(1,4):\n",
    "    factorial=factorial*key\n",
    "    dict[key]=factorial\n",
    "    print(dict)"
   ]
  },
  {
   "cell_type": "code",
   "execution_count": null,
   "metadata": {},
   "outputs": [],
   "source": []
  }
 ],
 "metadata": {
  "kernelspec": {
   "display_name": "Python 3",
   "language": "python",
   "name": "python3"
  },
  "language_info": {
   "codemirror_mode": {
    "name": "ipython",
    "version": 3
   },
   "file_extension": ".py",
   "mimetype": "text/x-python",
   "name": "python",
   "nbconvert_exporter": "python",
   "pygments_lexer": "ipython3",
   "version": "3.7.4"
  }
 },
 "nbformat": 4,
 "nbformat_minor": 2
}
