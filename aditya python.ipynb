{
 "cells": [
  {
   "cell_type": "code",
   "execution_count": 5,
   "metadata": {},
   "outputs": [
    {
     "name": "stdout",
     "output_type": "stream",
     "text": [
      "The product is 1375\n"
     ]
    }
   ],
   "source": [
    "def mul_Num(a,b):\n",
    "    multiply=a*b;\n",
    "    return multiply;\n",
    "    num1=25\n",
    "    num2=55\n",
    "print(\"The product is\",mul_Num(num1,num2))"
   ]
  },
  {
   "cell_type": "code",
   "execution_count": 6,
   "metadata": {},
   "outputs": [
    {
     "name": "stdout",
     "output_type": "stream",
     "text": [
      "The sum is 116\n"
     ]
    }
   ],
   "source": [
    "def add_num(a,b):\n",
    "    sum=a+b;\n",
    "    return sum;\n",
    "num1=57  \n",
    "num2=59\n",
    "print(\"The sum is\",add_num(num1,num2))#call the function"
   ]
  },
  {
   "cell_type": "code",
   "execution_count": 7,
   "metadata": {},
   "outputs": [
    {
     "name": "stdout",
     "output_type": "stream",
     "text": [
      "Please enter any number to find factorial: 6\n",
      "The factorial of 6 = 720\n"
     ]
    }
   ],
   "source": [
    "def factorial(num):\n",
    "    fact=1\n",
    "    for i in range(1, num+1):\n",
    "        fact=fact*i\n",
    "    return fact\n",
    "number=int(input(\"Please enter any number to find factorial: \"))\n",
    "result=factorial(number)\n",
    "print(\"The factorial of %d = %d\"%(number,result))\n"
   ]
  },
  {
   "cell_type": "code",
   "execution_count": 8,
   "metadata": {},
   "outputs": [
    {
     "name": "stdout",
     "output_type": "stream",
     "text": [
      "How many terms? 7\n",
      "Fibonacci sequence:\n",
      "0\n",
      "1\n",
      "1\n",
      "2\n",
      "3\n",
      "5\n",
      "8\n"
     ]
    }
   ],
   "source": [
    "def recur_fibo(n):\n",
    "   if n <= 1:\n",
    "       return n\n",
    "   else:\n",
    "       return(recur_fibo(n-1) + recur_fibo(n-2))\n",
    "\n",
    "nterms = int(input(\"How many terms? \"))\n",
    "\n",
    "if nterms <= 0:\n",
    "   print(\"Plese enter a positive integer\")\n",
    "else:\n",
    "   print(\"Fibonacci sequence:\")\n",
    "   for i in range(nterms):\n",
    "       print(recur_fibo(i))"
   ]
  },
  {
   "cell_type": "code",
   "execution_count": 10,
   "metadata": {},
   "outputs": [
    {
     "name": "stdout",
     "output_type": "stream",
     "text": [
      "Enter the first number: 2\n",
      "Enter the second number: 3\n",
      "Value of x is 3\n",
      "Value of y is 2\n"
     ]
    }
   ],
   "source": [
    "x = int(input(\"Enter the first number: \"))\n",
    "y = int(input(\"Enter the second number: \"))\n",
    "\n",
    "\n",
    "temp = x\n",
    "x = y\n",
    "y = temp\n",
    "\n",
    "print(\"Value of x is %d\" %x)\n",
    "print(\"Value of y is %d\" %y)"
   ]
  },
  {
   "cell_type": "code",
   "execution_count": 12,
   "metadata": {},
   "outputs": [
    {
     "name": "stdout",
     "output_type": "stream",
     "text": [
      "Enter first number: 3\n",
      "Enter second number: 6\n",
      "The H.C.F. of 3 and 6 is 3\n"
     ]
    }
   ],
   "source": [
    "def hcf(x, y):\n",
    "    if x > y:\n",
    "        smaller = y\n",
    "    else:\n",
    "        smaller = x\n",
    "    for i in range(1, smaller + 1):\n",
    "        if ((x % i == 0) and (y % i == 0)):\n",
    "            hcf = i\n",
    "    return hcf\n",
    "\n",
    "\n",
    "num1 = int(input(\"Enter first number: \"))\n",
    "num2 = int(input(\"Enter second number: \"))\n",
    "print(\"The H.C.F. of\", num1, \"and\", num2, \"is\", hcf(num1, num2))"
   ]
  },
  {
   "cell_type": "code",
   "execution_count": 13,
   "metadata": {},
   "outputs": [
    {
     "name": "stdout",
     "output_type": "stream",
     "text": [
      "Enter ASCII value: 8\n",
      "\b\n",
      "F\n"
     ]
    }
   ],
   "source": [
    "num = int(input(\"Enter ASCII value: \"))\n",
    "print(chr(num))\n",
    "\n",
    "num2 = 70\n",
    "print(chr(num2))"
   ]
  },
  {
   "cell_type": "code",
   "execution_count": 15,
   "metadata": {},
   "outputs": [
    {
     "name": "stdout",
     "output_type": "stream",
     "text": [
      "The ceil of 4.6 is : 5\n",
      "The floor of 4.6 is : 4\n"
     ]
    }
   ],
   "source": [
    "import math\n",
    "a = 4.6\n",
    "print (\"The ceil of 4.6 is : \", end=\"\")\n",
    "print (math.ceil(a)) \n",
    "print (\"The floor of 4.6 is : \", end=\"\")\n",
    "print (math.floor(a))"
   ]
  },
  {
   "cell_type": "code",
   "execution_count": 18,
   "metadata": {},
   "outputs": [
    {
     "name": "stdout",
     "output_type": "stream",
     "text": [
      "Number of ticks since 10:00am, july 22, 2000: 1585730879.3573673\n"
     ]
    }
   ],
   "source": [
    "import time;\n",
    "\n",
    "ticks = time.time()\n",
    "print (\"Number of ticks since 10:00am, july 22, 2000:\", ticks)"
   ]
  },
  {
   "cell_type": "code",
   "execution_count": 20,
   "metadata": {},
   "outputs": [
    {
     "name": "stdout",
     "output_type": "stream",
     "text": [
      "Hello Hi, Good evening\n"
     ]
    }
   ],
   "source": [
    "def greet(name,msg):\n",
    "   \"\"\"This function greets to\n",
    "   the person with the provided message\"\"\"\n",
    "   print(\"Hello\",name + ', ' + msg)\n",
    "\n",
    "greet(\"Hi\",\"Good evening\")"
   ]
  },
  {
   "cell_type": "code",
   "execution_count": 22,
   "metadata": {},
   "outputs": [
    {
     "name": "stdout",
     "output_type": "stream",
     "text": [
      "pinkmen and walter are friends\n"
     ]
    }
   ],
   "source": [
    "def print_name(name1, name2):\n",
    "  \"\"\" This function prints the name \"\"\"\n",
    "  print (name1 + \" and \" + name2 + \" are friends\")\n",
    "\n",
    "print_name(name2 = 'walter',name1 = 'pinkmen')"
   ]
  },
  {
   "cell_type": "code",
   "execution_count": 25,
   "metadata": {},
   "outputs": [
    {
     "name": "stdout",
     "output_type": "stream",
     "text": [
      "6\n",
      "12\n"
     ]
    }
   ],
   "source": [
    "def sum(a=8, b=4):\n",
    "  \"\"\" This function will print sum of two numbers\n",
    "      if the arguments are not supplied\n",
    "      it will add the default value \"\"\"\n",
    "  print (a+b)\n",
    "\n",
    "sum(2,4)\n",
    "sum( )"
   ]
  },
  {
   "cell_type": "code",
   "execution_count": 27,
   "metadata": {},
   "outputs": [
    {
     "name": "stdout",
     "output_type": "stream",
     "text": [
      "walter\n",
      "jessy\n",
      "pinkmen\n",
      "('walter', 'LA')\n",
      "('jessy', 'NY')\n",
      "('pinkmen', 'DC')\n"
     ]
    }
   ],
   "source": [
    "def display(*name, **address):\n",
    "  for items in name:\n",
    "    print (items)\n",
    "\n",
    "  for items in address.items():\n",
    "    print (items)\n",
    "\n",
    "display('walter','jessy','pinkmen',walter='LA',jessy='NY',pinkmen='DC')"
   ]
  },
  {
   "cell_type": "code",
   "execution_count": null,
   "metadata": {},
   "outputs": [],
   "source": []
  }
 ],
 "metadata": {
  "kernelspec": {
   "display_name": "Python 3",
   "language": "python",
   "name": "python3"
  },
  "language_info": {
   "codemirror_mode": {
    "name": "ipython",
    "version": 3
   },
   "file_extension": ".py",
   "mimetype": "text/x-python",
   "name": "python",
   "nbconvert_exporter": "python",
   "pygments_lexer": "ipython3",
   "version": "3.7.4"
  }
 },
 "nbformat": 4,
 "nbformat_minor": 2
}
