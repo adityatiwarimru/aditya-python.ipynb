{
 "cells": [
  {
   "cell_type": "code",
   "execution_count": 1,
   "metadata": {},
   "outputs": [
    {
     "name": "stdout",
     "output_type": "stream",
     "text": [
      "6\n"
     ]
    }
   ],
   "source": [
    "#creating two lists - one for each club\n",
    "extravenza = []\n",
    "tez = []\n",
    "\n",
    "\n",
    "#taking in student ids in the list\n",
    "\n",
    "extravenza = [1,2,3,5]\n",
    "tez = [2,8,9]\n",
    "\n",
    "\n",
    "#joining all ids in another list\n",
    "\n",
    "all_students = extravenza + tez\n",
    "\n",
    "\n",
    "#removing duplicates from the student list\n",
    "\n",
    "all_students = list(set(all_students))\n",
    "\n",
    "\n",
    "#print number of students who participated in at least one club\n",
    "\n",
    "print(len(all_students))"
   ]
  },
  {
   "cell_type": "code",
   "execution_count": null,
   "metadata": {},
   "outputs": [],
   "source": []
  }
 ],
 "metadata": {
  "kernelspec": {
   "display_name": "Python 3",
   "language": "python",
   "name": "python3"
  },
  "language_info": {
   "codemirror_mode": {
    "name": "ipython",
    "version": 3
   },
   "file_extension": ".py",
   "mimetype": "text/x-python",
   "name": "python",
   "nbconvert_exporter": "python",
   "pygments_lexer": "ipython3",
   "version": "3.7.4"
  }
 },
 "nbformat": 4,
 "nbformat_minor": 2
}
