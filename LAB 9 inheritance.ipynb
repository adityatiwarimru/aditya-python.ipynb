{
 "cells": [
  {
   "cell_type": "code",
   "execution_count": 15,
   "metadata": {},
   "outputs": [
    {
     "name": "stdout",
     "output_type": "stream",
     "text": [
      "The colour of animal leg is  black\n",
      "Tiger Leg color is Yellow\n"
     ]
    }
   ],
   "source": [
    "#Q.1:\n",
    "class Animal:\n",
    "    aleg=\"black\"\n",
    "    def leg(self):\n",
    "        print(\"The colour of animal leg is \", self.aleg )\n",
    "\n",
    "class Dog(Animal):\n",
    "    def call_leg(self):\n",
    "        self.leg()\n",
    "        self.aleg =\"Yellow\"\n",
    "        print(\"Tiger Leg color is\",self.aleg )\n",
    "\n",
    "class Tiger(Dog):\n",
    "    def call_dog(self):\n",
    "        self.call_leg()\n",
    "\n",
    "obj=Tiger ()\n",
    "obj.call_dog()"
   ]
  },
  {
   "cell_type": "code",
   "execution_count": 13,
   "metadata": {},
   "outputs": [
    {
     "name": "stdout",
     "output_type": "stream",
     "text": [
      "This is Engineering\n",
      "This is Manager\n"
     ]
    }
   ],
   "source": [
    " #Q.2:\n",
    "class Employee:\n",
    "    engg =\"This is Engineering\"\n",
    "    manager=\"This is Manager\"\n",
    "\n",
    "class Engineer(Employee):\n",
    "    def printDesign(self):\n",
    "        print(self.engg)\n",
    "\n",
    "class Manager(Engineer):\n",
    "    def printDesign(self):\n",
    "        Engineer .printDesign(self )\n",
    "        print(self.manager )\n",
    "\n",
    "obj =Manager () \n",
    "obj.printDesign()"
   ]
  },
  {
   "cell_type": "code",
   "execution_count": 21,
   "metadata": {},
   "outputs": [
    {
     "name": "stdout",
     "output_type": "stream",
     "text": [
      "The Class Name is python\n",
      "value of a attribute is 1\n",
      "value of b attribute is 2\n"
     ]
    }
   ],
   "source": [
    "#Q.3:\n",
    "class python:\n",
    "    a=1\n",
    "    b=2\n",
    "    def pythonfun(self):\n",
    "        print(\"value of a attribute is\", self .a)\n",
    "        print(\"value of b attribute is\", self .b)\n",
    "\n",
    "print(\"The Class Name is python\")\n",
    "obj=python()\n",
    "obj.pythonfun()"
   ]
  },
  {
   "cell_type": "code",
   "execution_count": 23,
   "metadata": {},
   "outputs": [
    {
     "name": "stdout",
     "output_type": "stream",
     "text": [
      "Manager class inherit  the  Employee class and Engineer\n",
      "This is Engineer\n",
      "This is Manager\n"
     ]
    }
   ],
   "source": [
    "#Q.4:\n",
    "        \n",
    "class Employee:\n",
    "    engg = \"This is Engineer\"\n",
    "    manager = \"This is Manager\"\n",
    "\n",
    "class Engineer(Employee):\n",
    "    def printDesign(self):\n",
    "        print(self.engg)\n",
    "\n",
    "class Manager(Engineer):\n",
    "    def printDesign(self):\n",
    "        print(\"Manager class inherit  the  Employee class and Engineer\")\n",
    "        Engineer.printDesign(self)\n",
    "        print(self.manager)\n",
    "\n",
    "obj = Manager()\n",
    "obj.printDesign()"
   ]
  },
  {
   "cell_type": "code",
   "execution_count": 32,
   "metadata": {},
   "outputs": [
    {
     "name": "stdout",
     "output_type": "stream",
     "text": [
      "In  B\n"
     ]
    }
   ],
   "source": [
    "#Q.5:\n",
    "            \n",
    "class  A:\n",
    "    def  m(self):\n",
    "         print(\"In  A\")\n",
    "\n",
    "class B(A):\n",
    "    def m(self):\n",
    "         print(\"In  B\")\n",
    "\n",
    "class C (A):\n",
    "    def m(self):\n",
    "         print(\"In c\")\n",
    "\n",
    "class D(B ,C):\n",
    "    pass\n",
    "obj=D()\n",
    "obj.m()"
   ]
  },
  {
   "cell_type": "code",
   "execution_count": null,
   "metadata": {},
   "outputs": [],
   "source": []
  }
 ],
 "metadata": {
  "kernelspec": {
   "display_name": "Python 3",
   "language": "python",
   "name": "python3"
  },
  "language_info": {
   "codemirror_mode": {
    "name": "ipython",
    "version": 3
   },
   "file_extension": ".py",
   "mimetype": "text/x-python",
   "name": "python",
   "nbconvert_exporter": "python",
   "pygments_lexer": "ipython3",
   "version": "3.7.4"
  }
 },
 "nbformat": 4,
 "nbformat_minor": 2
}
